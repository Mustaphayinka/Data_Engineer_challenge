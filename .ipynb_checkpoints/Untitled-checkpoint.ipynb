{
 "cells": [
  {
   "cell_type": "code",
   "execution_count": 1,
   "id": "012e122d-adad-4f12-acbe-322e26012fd9",
   "metadata": {},
   "outputs": [
    {
     "name": "stdout",
     "output_type": "stream",
     "text": [
      "Requirement already satisfied: beautifulsoup4 in c:\\users\\mustapha yusuf\\anaconda3\\envs\\tensorflow\\lib\\site-packages (4.12.3)\n",
      "Requirement already satisfied: soupsieve>1.2 in c:\\users\\mustapha yusuf\\anaconda3\\envs\\tensorflow\\lib\\site-packages (from beautifulsoup4) (2.5)\n",
      "Note: you may need to restart the kernel to use updated packages.\n"
     ]
    }
   ],
   "source": [
    "pip install beautifulsoup4"
   ]
  },
  {
   "cell_type": "code",
   "execution_count": 2,
   "id": "069a20b8-a3a5-42a7-a809-461a8f774b06",
   "metadata": {},
   "outputs": [],
   "source": [
    "import requests\n",
    "from bs4 import BeautifulSoup"
   ]
  },
  {
   "cell_type": "code",
   "execution_count": 3,
   "id": "3b274a12-65b0-46a6-b72d-0cbb5dad0106",
   "metadata": {},
   "outputs": [
    {
     "data": {
      "text/plain": [
       "200"
      ]
     },
     "execution_count": 3,
     "metadata": {},
     "output_type": "execute_result"
    }
   ],
   "source": [
    "url = \"https://data.worldbank.org/country\"\n",
    "response = requests.get(url)\n",
    "response.status_code"
   ]
  },
  {
   "cell_type": "code",
   "execution_count": 4,
   "id": "a5cd1d3c-7b85-450d-9a36-ec089a8b2e9b",
   "metadata": {},
   "outputs": [
    {
     "name": "stdout",
     "output_type": "stream",
     "text": [
      "Countries | Data\n"
     ]
    }
   ],
   "source": [
    "soup = BeautifulSoup(response.text, 'html.parser')\n",
    "print(soup.title.text)"
   ]
  },
  {
   "cell_type": "code",
   "execution_count": 5,
   "id": "1aa552b1-566f-4b03-a9e7-132180c6b54d",
   "metadata": {},
   "outputs": [
    {
     "data": {
      "text/plain": [
       "'<!doctype '"
      ]
     },
     "execution_count": 5,
     "metadata": {},
     "output_type": "execute_result"
    }
   ],
   "source": [
    "response.text[:10]"
   ]
  },
  {
   "cell_type": "code",
   "execution_count": 6,
   "id": "4bbfdf9a-8442-45da-b8cb-2b88525b5e1c",
   "metadata": {},
   "outputs": [
    {
     "data": {
      "text/plain": [
       "[<a class=\"logo\" data-reactid=\"9\" href=\"http://www.worldbank.org\" target=\"_blank\"><img alt=\"The World Bank\" data-reactid=\"10\" src=\"/assets/images/logo-wb-header-en.svg\"/></a>,\n",
       " <a class=\"datalink\" data-reactid=\"11\" href=\"/\">Data</a>,\n",
       " <a data-reactid=\"15\" href=\"/\">HOME</a>,\n",
       " <a data-reactid=\"17\" href=\"https://data360.worldbank.org/en/economies\" rel=\"noopener noreferrer\" target=\"_blank\">ECONOMIES</a>,\n",
       " <a data-reactid=\"19\" href=\"https://data360.worldbank.org/en/search\" rel=\"noopener noreferrer\" target=\"_blank\">DATA &amp; RESOURCES</a>,\n",
       " <a data-reactid=\"21\" href=\"https://data360.worldbank.org/en/about\" rel=\"noopener noreferrer\" target=\"_blank\">ABOUT</a>,\n",
       " <a class=\"country\" data-reactid=\"43\" href=\"/country\"><span data-reactid=\"44\">Country</span></a>,\n",
       " <a data-reactid=\"46\" href=\"/indicator\"><span data-reactid=\"47\">Indicator</span></a>,\n",
       " <a class=\"nav-item datapage\" data-reactid=\"49\" href=\"/\"></a>,\n",
       " <a class=\"nav-item\" data-reactid=\"50\" href=\"http://databank.worldbank.org/data/home.aspx\" target=\"false\">DataBank</a>,\n",
       " <a class=\"nav-item\" data-reactid=\"51\" href=\"http://microdata.worldbank.org/index.php/home\" target=\"false\">Microdata</a>,\n",
       " <a class=\"nav-item\" data-reactid=\"52\" href=\"https://datacatalog.worldbank.org\" target=\"_self\">Data Catalog</a>,\n",
       " <a data-reactid=\"60\" href=\"http://microdata.worldbank.org/index.php/home\" target=\"_blank\">Microdata</a>,\n",
       " <a data-reactid=\"62\" href=\"http://datacatalog.worldbank.org\" target=\"_blank\">Data Catalog</a>,\n",
       " <a data-reactid=\"64\" href=\"http://databank.worldbank.org/data/home.aspx\" target=\"_blank\"><span data-reactid=\"65\">DataBank</span></a>,\n",
       " <a class=\"country\" data-reactid=\"69\" href=\"/country\"><span data-reactid=\"70\">Country</span></a>,\n",
       " <a data-reactid=\"71\" href=\"/indicator\"><span data-reactid=\"72\">Indicator</span></a>,\n",
       " <a data-reactid=\"76\" href=\"/about\">About Us</a>,\n",
       " <a data-reactid=\"79\" href=\"/about/get-started\">Get Started</a>,\n",
       " <a data-reactid=\"81\" href=\"/about/faq\">FAQ</a>,\n",
       " <a data-reactid=\"83\" href=\"http://datahelpdesk.worldbank.org\">Help Desk</a>,\n",
       " <a data-reactid=\"85\" href=\"/about/contact\">Contact</a>,\n",
       " <a data-reactid=\"88\" href=\"/about/data-programs\">Data Programs</a>,\n",
       " <a data-reactid=\"91\" href=\"/about/data-programs#statcap\">Improving Statistical Capacity</a>,\n",
       " <a data-reactid=\"93\" href=\"https://www.worldbank.org/en/programs/global-data-facility\">Global Data Facility</a>,\n",
       " <a data-reactid=\"95\" href=\"/about/data-programs#icp\">International Comparison Program &amp; Purchasing Power Parity</a>,\n",
       " <a data-reactid=\"97\" href=\"/about/data-programs#ihsn\">International Household Survey Network (IHSN)</a>,\n",
       " <a data-reactid=\"99\" href=\"/about/data-programs#jedh\">Joint External Debt Hub</a>,\n",
       " <a data-reactid=\"101\" href=\"/about/data-programs#ogd-toolkit\">Open Data Toolkit</a>,\n",
       " <a data-reactid=\"103\" href=\"/about/data-programs#qeds\">Quarterly External Debt Statistics</a>,\n",
       " <a data-reactid=\"106\" href=\"/products\">Products</a>,\n",
       " <a data-reactid=\"109\" href=\"http://datatopics.worldbank.org/world-development-indicators\">World Development Indicators</a>,\n",
       " <a data-reactid=\"111\" href=\"https://www.worldbank.org/en/programs/debt-statistics/ids/products\">International Debt Statistics</a>,\n",
       " <a data-reactid=\"113\" href=\"/products/data-books\">Other Books and Reports</a>,\n",
       " <a data-reactid=\"115\" href=\"https://datahelpdesk.worldbank.org/knowledgebase/articles/906519\">Country &amp; Lending Groups</a>,\n",
       " <a data-reactid=\"117\" href=\"/products/tools\">Data Portals and Tools</a>,\n",
       " <a data-reactid=\"120\" href=\"http://datatopics.worldbank.org/sdgs\">Development Goals</a>,\n",
       " <a data-reactid=\"122\" href=\"/summary-terms-of-use\">Terms of Use</a>,\n",
       " <a data-reactid=\"124\" href=\"https://datahelpdesk.worldbank.org/knowledgebase/articles/889386\">For Developers</a>,\n",
       " <a data-reactid=\"211\" href=\"/country/afghanistan?view=chart\">Afghanistan</a>,\n",
       " <a data-reactid=\"213\" href=\"/country/albania?view=chart\">Albania</a>,\n",
       " <a data-reactid=\"215\" href=\"/country/algeria?view=chart\">Algeria</a>,\n",
       " <a data-reactid=\"217\" href=\"/country/american-samoa?view=chart\">American Samoa</a>,\n",
       " <a data-reactid=\"219\" href=\"/country/andorra?view=chart\">Andorra</a>,\n",
       " <a data-reactid=\"221\" href=\"/country/angola?view=chart\">Angola</a>,\n",
       " <a data-reactid=\"223\" href=\"/country/antigua-and-barbuda?view=chart\">Antigua and Barbuda</a>,\n",
       " <a data-reactid=\"225\" href=\"/country/argentina?view=chart\">Argentina</a>,\n",
       " <a data-reactid=\"227\" href=\"/country/armenia?view=chart\">Armenia</a>,\n",
       " <a data-reactid=\"229\" href=\"/country/aruba?view=chart\">Aruba</a>,\n",
       " <a data-reactid=\"231\" href=\"/country/australia?view=chart\">Australia</a>,\n",
       " <a data-reactid=\"233\" href=\"/country/austria?view=chart\">Austria</a>,\n",
       " <a data-reactid=\"235\" href=\"/country/azerbaijan?view=chart\">Azerbaijan</a>,\n",
       " <a data-reactid=\"240\" href=\"/country/bahamas-the?view=chart\">Bahamas, The</a>,\n",
       " <a data-reactid=\"242\" href=\"/country/bahrain?view=chart\">Bahrain</a>,\n",
       " <a data-reactid=\"244\" href=\"/country/bangladesh?view=chart\">Bangladesh</a>,\n",
       " <a data-reactid=\"246\" href=\"/country/barbados?view=chart\">Barbados</a>,\n",
       " <a data-reactid=\"248\" href=\"/country/belarus?view=chart\">Belarus</a>,\n",
       " <a data-reactid=\"250\" href=\"/country/belgium?view=chart\">Belgium</a>,\n",
       " <a data-reactid=\"252\" href=\"/country/belize?view=chart\">Belize</a>,\n",
       " <a data-reactid=\"254\" href=\"/country/benin?view=chart\">Benin</a>,\n",
       " <a data-reactid=\"256\" href=\"/country/bermuda?view=chart\">Bermuda</a>,\n",
       " <a data-reactid=\"258\" href=\"/country/bhutan?view=chart\">Bhutan</a>,\n",
       " <a data-reactid=\"260\" href=\"/country/bolivia?view=chart\">Bolivia</a>,\n",
       " <a data-reactid=\"262\" href=\"/country/bosnia-and-herzegovina?view=chart\">Bosnia and Herzegovina</a>,\n",
       " <a data-reactid=\"264\" href=\"/country/botswana?view=chart\">Botswana</a>,\n",
       " <a data-reactid=\"266\" href=\"/country/brazil?view=chart\">Brazil</a>,\n",
       " <a data-reactid=\"268\" href=\"/country/british-virgin-islands?view=chart\">British Virgin Islands</a>,\n",
       " <a data-reactid=\"270\" href=\"/country/brunei-darussalam?view=chart\">Brunei Darussalam</a>,\n",
       " <a data-reactid=\"272\" href=\"/country/bulgaria?view=chart\">Bulgaria</a>,\n",
       " <a data-reactid=\"274\" href=\"/country/burkina-faso?view=chart\">Burkina Faso</a>,\n",
       " <a data-reactid=\"276\" href=\"/country/burundi?view=chart\">Burundi</a>,\n",
       " <a data-reactid=\"281\" href=\"/country/cabo-verde?view=chart\">Cabo Verde</a>,\n",
       " <a data-reactid=\"283\" href=\"/country/cambodia?view=chart\">Cambodia</a>,\n",
       " <a data-reactid=\"285\" href=\"/country/cameroon?view=chart\">Cameroon</a>,\n",
       " <a data-reactid=\"287\" href=\"/country/canada?view=chart\">Canada</a>,\n",
       " <a data-reactid=\"289\" href=\"/country/cayman-islands?view=chart\">Cayman Islands</a>,\n",
       " <a data-reactid=\"291\" href=\"/country/central-african-republic?view=chart\">Central African Republic</a>,\n",
       " <a data-reactid=\"293\" href=\"/country/chad?view=chart\">Chad</a>,\n",
       " <a data-reactid=\"295\" href=\"/country/channel-islands?view=chart\">Channel Islands</a>,\n",
       " <a data-reactid=\"297\" href=\"/country/chile?view=chart\">Chile</a>,\n",
       " <a data-reactid=\"299\" href=\"/country/china?view=chart\">China</a>,\n",
       " <a data-reactid=\"301\" href=\"/country/colombia?view=chart\">Colombia</a>,\n",
       " <a data-reactid=\"303\" href=\"/country/comoros?view=chart\">Comoros</a>,\n",
       " <a data-reactid=\"305\" href=\"/country/congo-dem-rep?view=chart\">Congo, Dem. Rep.</a>,\n",
       " <a data-reactid=\"307\" href=\"/country/congo-rep?view=chart\">Congo, Rep.</a>,\n",
       " <a data-reactid=\"309\" href=\"/country/costa-rica?view=chart\">Costa Rica</a>,\n",
       " <a data-reactid=\"311\" href=\"/country/cote-divoire?view=chart\">Cote d'Ivoire</a>,\n",
       " <a data-reactid=\"313\" href=\"/country/croatia?view=chart\">Croatia</a>,\n",
       " <a data-reactid=\"315\" href=\"/country/cuba?view=chart\">Cuba</a>,\n",
       " <a data-reactid=\"317\" href=\"/country/curacao?view=chart\">Curacao</a>,\n",
       " <a data-reactid=\"319\" href=\"/country/cyprus?view=chart\">Cyprus</a>,\n",
       " <a data-reactid=\"321\" href=\"/country/czechia?view=chart\">Czechia</a>,\n",
       " <a data-reactid=\"326\" href=\"/country/denmark?view=chart\">Denmark</a>,\n",
       " <a data-reactid=\"328\" href=\"/country/djibouti?view=chart\">Djibouti</a>,\n",
       " <a data-reactid=\"330\" href=\"/country/dominica?view=chart\">Dominica</a>,\n",
       " <a data-reactid=\"332\" href=\"/country/dominican-republic?view=chart\">Dominican Republic</a>,\n",
       " <a data-reactid=\"337\" href=\"/country/ecuador?view=chart\">Ecuador</a>,\n",
       " <a data-reactid=\"339\" href=\"/country/egypt-arab-rep?view=chart\">Egypt, Arab Rep.</a>,\n",
       " <a data-reactid=\"341\" href=\"/country/el-salvador?view=chart\">El Salvador</a>,\n",
       " <a data-reactid=\"343\" href=\"/country/equatorial-guinea?view=chart\">Equatorial Guinea</a>,\n",
       " <a data-reactid=\"345\" href=\"/country/eritrea?view=chart\">Eritrea</a>,\n",
       " <a data-reactid=\"347\" href=\"/country/estonia?view=chart\">Estonia</a>,\n",
       " <a data-reactid=\"349\" href=\"/country/eswatini?view=chart\">Eswatini</a>,\n",
       " <a data-reactid=\"351\" href=\"/country/ethiopia?view=chart\">Ethiopia</a>,\n",
       " <a data-reactid=\"356\" href=\"/country/faroe-islands?view=chart\">Faroe Islands</a>,\n",
       " <a data-reactid=\"358\" href=\"/country/fiji?view=chart\">Fiji</a>,\n",
       " <a data-reactid=\"360\" href=\"/country/finland?view=chart\">Finland</a>,\n",
       " <a data-reactid=\"362\" href=\"/country/france?view=chart\">France</a>,\n",
       " <a data-reactid=\"364\" href=\"/country/french-polynesia?view=chart\">French Polynesia</a>,\n",
       " <a data-reactid=\"369\" href=\"/country/gabon?view=chart\">Gabon</a>,\n",
       " <a data-reactid=\"371\" href=\"/country/gambia-the?view=chart\">Gambia, The</a>,\n",
       " <a data-reactid=\"373\" href=\"/country/georgia?view=chart\">Georgia</a>,\n",
       " <a data-reactid=\"375\" href=\"/country/germany?view=chart\">Germany</a>,\n",
       " <a data-reactid=\"377\" href=\"/country/ghana?view=chart\">Ghana</a>,\n",
       " <a data-reactid=\"379\" href=\"/country/gibraltar?view=chart\">Gibraltar</a>,\n",
       " <a data-reactid=\"381\" href=\"/country/greece?view=chart\">Greece</a>,\n",
       " <a data-reactid=\"383\" href=\"/country/greenland?view=chart\">Greenland</a>,\n",
       " <a data-reactid=\"385\" href=\"/country/grenada?view=chart\">Grenada</a>,\n",
       " <a data-reactid=\"387\" href=\"/country/guam?view=chart\">Guam</a>,\n",
       " <a data-reactid=\"389\" href=\"/country/guatemala?view=chart\">Guatemala</a>,\n",
       " <a data-reactid=\"391\" href=\"/country/guinea?view=chart\">Guinea</a>,\n",
       " <a data-reactid=\"393\" href=\"/country/guinea-bissau?view=chart\">Guinea-Bissau</a>,\n",
       " <a data-reactid=\"395\" href=\"/country/guyana?view=chart\">Guyana</a>,\n",
       " <a data-reactid=\"400\" href=\"/country/haiti?view=chart\">Haiti</a>,\n",
       " <a data-reactid=\"402\" href=\"/country/honduras?view=chart\">Honduras</a>,\n",
       " <a data-reactid=\"404\" href=\"/country/hong-kong-sar-china?view=chart\">Hong Kong SAR, China</a>,\n",
       " <a data-reactid=\"406\" href=\"/country/hungary?view=chart\">Hungary</a>,\n",
       " <a data-reactid=\"411\" href=\"/country/iceland?view=chart\">Iceland</a>,\n",
       " <a data-reactid=\"413\" href=\"/country/india?view=chart\">India</a>,\n",
       " <a data-reactid=\"415\" href=\"/country/indonesia?view=chart\">Indonesia</a>,\n",
       " <a data-reactid=\"417\" href=\"/country/iran-islamic-rep?view=chart\">Iran, Islamic Rep.</a>,\n",
       " <a data-reactid=\"419\" href=\"/country/iraq?view=chart\">Iraq</a>,\n",
       " <a data-reactid=\"421\" href=\"/country/ireland?view=chart\">Ireland</a>,\n",
       " <a data-reactid=\"423\" href=\"/country/isle-of-man?view=chart\">Isle of Man</a>,\n",
       " <a data-reactid=\"425\" href=\"/country/israel?view=chart\">Israel</a>,\n",
       " <a data-reactid=\"427\" href=\"/country/italy?view=chart\">Italy</a>,\n",
       " <a data-reactid=\"432\" href=\"/country/jamaica?view=chart\">Jamaica</a>,\n",
       " <a data-reactid=\"434\" href=\"/country/japan?view=chart\">Japan</a>,\n",
       " <a data-reactid=\"436\" href=\"/country/jordan?view=chart\">Jordan</a>,\n",
       " <a data-reactid=\"441\" href=\"/country/kazakhstan?view=chart\">Kazakhstan</a>,\n",
       " <a data-reactid=\"443\" href=\"/country/kenya?view=chart\">Kenya</a>,\n",
       " <a data-reactid=\"445\" href=\"/country/kiribati?view=chart\">Kiribati</a>,\n",
       " <a data-reactid=\"447\" href=\"/country/korea-dem-peoples-rep?view=chart\">Korea, Dem. People's Rep.</a>,\n",
       " <a data-reactid=\"449\" href=\"/country/korea-rep?view=chart\">Korea, Rep.</a>,\n",
       " <a data-reactid=\"451\" href=\"/country/kosovo?view=chart\">Kosovo</a>,\n",
       " <a data-reactid=\"453\" href=\"/country/kuwait?view=chart\">Kuwait</a>,\n",
       " <a data-reactid=\"455\" href=\"/country/kyrgyz-republic?view=chart\">Kyrgyz Republic</a>,\n",
       " <a data-reactid=\"460\" href=\"/country/lao-pdr?view=chart\">Lao PDR</a>,\n",
       " <a data-reactid=\"462\" href=\"/country/latvia?view=chart\">Latvia</a>,\n",
       " <a data-reactid=\"464\" href=\"/country/lebanon?view=chart\">Lebanon</a>,\n",
       " <a data-reactid=\"466\" href=\"/country/lesotho?view=chart\">Lesotho</a>,\n",
       " <a data-reactid=\"468\" href=\"/country/liberia?view=chart\">Liberia</a>,\n",
       " <a data-reactid=\"470\" href=\"/country/libya?view=chart\">Libya</a>,\n",
       " <a data-reactid=\"472\" href=\"/country/liechtenstein?view=chart\">Liechtenstein</a>,\n",
       " <a data-reactid=\"474\" href=\"/country/lithuania?view=chart\">Lithuania</a>,\n",
       " <a data-reactid=\"476\" href=\"/country/luxembourg?view=chart\">Luxembourg</a>,\n",
       " <a data-reactid=\"481\" href=\"/country/macao-sar-china?view=chart\">Macao SAR, China</a>,\n",
       " <a data-reactid=\"483\" href=\"/country/madagascar?view=chart\">Madagascar</a>,\n",
       " <a data-reactid=\"485\" href=\"/country/malawi?view=chart\">Malawi</a>,\n",
       " <a data-reactid=\"487\" href=\"/country/malaysia?view=chart\">Malaysia</a>,\n",
       " <a data-reactid=\"489\" href=\"/country/maldives?view=chart\">Maldives</a>,\n",
       " <a data-reactid=\"491\" href=\"/country/mali?view=chart\">Mali</a>,\n",
       " <a data-reactid=\"493\" href=\"/country/malta?view=chart\">Malta</a>,\n",
       " <a data-reactid=\"495\" href=\"/country/marshall-islands?view=chart\">Marshall Islands</a>,\n",
       " <a data-reactid=\"497\" href=\"/country/mauritania?view=chart\">Mauritania</a>,\n",
       " <a data-reactid=\"499\" href=\"/country/mauritius?view=chart\">Mauritius</a>,\n",
       " <a data-reactid=\"501\" href=\"/country/mexico?view=chart\">Mexico</a>,\n",
       " <a data-reactid=\"503\" href=\"/country/micronesia-fed-sts?view=chart\">Micronesia, Fed. Sts.</a>,\n",
       " <a data-reactid=\"505\" href=\"/country/moldova?view=chart\">Moldova</a>,\n",
       " <a data-reactid=\"507\" href=\"/country/monaco?view=chart\">Monaco</a>,\n",
       " <a data-reactid=\"509\" href=\"/country/mongolia?view=chart\">Mongolia</a>,\n",
       " <a data-reactid=\"511\" href=\"/country/montenegro?view=chart\">Montenegro</a>,\n",
       " <a data-reactid=\"513\" href=\"/country/morocco?view=chart\">Morocco</a>,\n",
       " <a data-reactid=\"515\" href=\"/country/mozambique?view=chart\">Mozambique</a>,\n",
       " <a data-reactid=\"517\" href=\"/country/myanmar?view=chart\">Myanmar</a>,\n",
       " <a data-reactid=\"522\" href=\"/country/namibia?view=chart\">Namibia</a>,\n",
       " <a data-reactid=\"524\" href=\"/country/nauru?view=chart\">Nauru</a>,\n",
       " <a data-reactid=\"526\" href=\"/country/nepal?view=chart\">Nepal</a>,\n",
       " <a data-reactid=\"528\" href=\"/country/netherlands?view=chart\">Netherlands</a>,\n",
       " <a data-reactid=\"530\" href=\"/country/new-caledonia?view=chart\">New Caledonia</a>,\n",
       " <a data-reactid=\"532\" href=\"/country/new-zealand?view=chart\">New Zealand</a>,\n",
       " <a data-reactid=\"534\" href=\"/country/nicaragua?view=chart\">Nicaragua</a>,\n",
       " <a data-reactid=\"536\" href=\"/country/niger?view=chart\">Niger</a>,\n",
       " <a data-reactid=\"538\" href=\"/country/nigeria?view=chart\">Nigeria</a>,\n",
       " <a data-reactid=\"540\" href=\"/country/north-macedonia?view=chart\">North Macedonia</a>,\n",
       " <a data-reactid=\"542\" href=\"/country/northern-mariana-islands?view=chart\">Northern Mariana Islands</a>,\n",
       " <a data-reactid=\"544\" href=\"/country/norway?view=chart\">Norway</a>,\n",
       " <a data-reactid=\"549\" href=\"/country/oman?view=chart\">Oman</a>,\n",
       " <a data-reactid=\"554\" href=\"/country/pakistan?view=chart\">Pakistan</a>,\n",
       " <a data-reactid=\"556\" href=\"/country/palau?view=chart\">Palau</a>,\n",
       " <a data-reactid=\"558\" href=\"/country/panama?view=chart\">Panama</a>,\n",
       " <a data-reactid=\"560\" href=\"/country/papua-new-guinea?view=chart\">Papua New Guinea</a>,\n",
       " <a data-reactid=\"562\" href=\"/country/paraguay?view=chart\">Paraguay</a>,\n",
       " <a data-reactid=\"564\" href=\"/country/peru?view=chart\">Peru</a>,\n",
       " <a data-reactid=\"566\" href=\"/country/philippines?view=chart\">Philippines</a>,\n",
       " <a data-reactid=\"568\" href=\"/country/poland?view=chart\">Poland</a>,\n",
       " <a data-reactid=\"570\" href=\"/country/portugal?view=chart\">Portugal</a>,\n",
       " <a data-reactid=\"572\" href=\"/country/puerto-rico?view=chart\">Puerto Rico</a>,\n",
       " <a data-reactid=\"577\" href=\"/country/qatar?view=chart\">Qatar</a>,\n",
       " <a data-reactid=\"582\" href=\"/country/romania?view=chart\">Romania</a>,\n",
       " <a data-reactid=\"584\" href=\"/country/russian-federation?view=chart\">Russian Federation</a>,\n",
       " <a data-reactid=\"586\" href=\"/country/rwanda?view=chart\">Rwanda</a>,\n",
       " <a data-reactid=\"591\" href=\"/country/samoa?view=chart\">Samoa</a>,\n",
       " <a data-reactid=\"593\" href=\"/country/san-marino?view=chart\">San Marino</a>,\n",
       " <a data-reactid=\"595\" href=\"/country/sao-tome-and-principe?view=chart\">Sao Tome and Principe</a>,\n",
       " <a data-reactid=\"597\" href=\"/country/saudi-arabia?view=chart\">Saudi Arabia</a>,\n",
       " <a data-reactid=\"599\" href=\"/country/senegal?view=chart\">Senegal</a>,\n",
       " <a data-reactid=\"601\" href=\"/country/serbia?view=chart\">Serbia</a>,\n",
       " <a data-reactid=\"603\" href=\"/country/seychelles?view=chart\">Seychelles</a>,\n",
       " <a data-reactid=\"605\" href=\"/country/sierra-leone?view=chart\">Sierra Leone</a>,\n",
       " <a data-reactid=\"607\" href=\"/country/singapore?view=chart\">Singapore</a>,\n",
       " <a data-reactid=\"609\" href=\"/country/sint-maarten-dutch-part?view=chart\">Sint Maarten (Dutch part)</a>,\n",
       " <a data-reactid=\"611\" href=\"/country/slovak-republic?view=chart\">Slovak Republic</a>,\n",
       " <a data-reactid=\"613\" href=\"/country/slovenia?view=chart\">Slovenia</a>,\n",
       " <a data-reactid=\"615\" href=\"/country/solomon-islands?view=chart\">Solomon Islands</a>,\n",
       " <a data-reactid=\"617\" href=\"/country/somalia?view=chart\">Somalia</a>,\n",
       " <a data-reactid=\"619\" href=\"/country/south-africa?view=chart\">South Africa</a>,\n",
       " <a data-reactid=\"621\" href=\"/country/south-sudan?view=chart\">South Sudan</a>,\n",
       " <a data-reactid=\"623\" href=\"/country/spain?view=chart\">Spain</a>,\n",
       " <a data-reactid=\"625\" href=\"/country/sri-lanka?view=chart\">Sri Lanka</a>,\n",
       " <a data-reactid=\"627\" href=\"/country/st-kitts-and-nevis?view=chart\">St. Kitts and Nevis</a>,\n",
       " <a data-reactid=\"629\" href=\"/country/st-lucia?view=chart\">St. Lucia</a>,\n",
       " <a data-reactid=\"631\" href=\"/country/st-martin-french-part?view=chart\">St. Martin (French part)</a>,\n",
       " <a data-reactid=\"633\" href=\"/country/st-vincent-and-the-grenadines?view=chart\">St. Vincent and the Grenadines</a>,\n",
       " <a data-reactid=\"635\" href=\"/country/sudan?view=chart\">Sudan</a>,\n",
       " <a data-reactid=\"637\" href=\"/country/suriname?view=chart\">Suriname</a>,\n",
       " <a data-reactid=\"639\" href=\"/country/sweden?view=chart\">Sweden</a>,\n",
       " <a data-reactid=\"641\" href=\"/country/switzerland?view=chart\">Switzerland</a>,\n",
       " <a data-reactid=\"643\" href=\"/country/syrian-arab-republic?view=chart\">Syrian Arab Republic</a>,\n",
       " <a data-reactid=\"648\" href=\"/country/tajikistan?view=chart\">Tajikistan</a>,\n",
       " <a data-reactid=\"650\" href=\"/country/tanzania?view=chart\">Tanzania</a>,\n",
       " <a data-reactid=\"652\" href=\"/country/thailand?view=chart\">Thailand</a>,\n",
       " <a data-reactid=\"654\" href=\"/country/timor-leste?view=chart\">Timor-Leste</a>,\n",
       " <a data-reactid=\"656\" href=\"/country/togo?view=chart\">Togo</a>,\n",
       " <a data-reactid=\"658\" href=\"/country/tonga?view=chart\">Tonga</a>,\n",
       " <a data-reactid=\"660\" href=\"/country/trinidad-and-tobago?view=chart\">Trinidad and Tobago</a>,\n",
       " <a data-reactid=\"662\" href=\"/country/tunisia?view=chart\">Tunisia</a>,\n",
       " <a data-reactid=\"664\" href=\"/country/turkiye?view=chart\">Turkiye</a>,\n",
       " <a data-reactid=\"666\" href=\"/country/turkmenistan?view=chart\">Turkmenistan</a>,\n",
       " <a data-reactid=\"668\" href=\"/country/turks-and-caicos-islands?view=chart\">Turks and Caicos Islands</a>,\n",
       " <a data-reactid=\"670\" href=\"/country/tuvalu?view=chart\">Tuvalu</a>,\n",
       " <a data-reactid=\"675\" href=\"/country/uganda?view=chart\">Uganda</a>,\n",
       " <a data-reactid=\"677\" href=\"/country/ukraine?view=chart\">Ukraine</a>,\n",
       " <a data-reactid=\"679\" href=\"/country/united-arab-emirates?view=chart\">United Arab Emirates</a>,\n",
       " <a data-reactid=\"681\" href=\"/country/united-kingdom?view=chart\">United Kingdom</a>,\n",
       " <a data-reactid=\"683\" href=\"/country/united-states?view=chart\">United States</a>,\n",
       " <a data-reactid=\"685\" href=\"/country/uruguay?view=chart\">Uruguay</a>,\n",
       " <a data-reactid=\"687\" href=\"/country/uzbekistan?view=chart\">Uzbekistan</a>,\n",
       " <a data-reactid=\"692\" href=\"/country/vanuatu?view=chart\">Vanuatu</a>,\n",
       " <a data-reactid=\"694\" href=\"/country/venezuela-rb?view=chart\">Venezuela, RB</a>,\n",
       " <a data-reactid=\"696\" href=\"/country/viet-nam?view=chart\">Viet Nam</a>,\n",
       " <a data-reactid=\"698\" href=\"/country/virgin-islands-us?view=chart\">Virgin Islands (U.S.)</a>,\n",
       " <a data-reactid=\"703\" href=\"/country/west-bank-and-gaza?view=chart\">West Bank and Gaza</a>,\n",
       " <a data-reactid=\"708\" href=\"/country/yemen-rep?view=chart\">Yemen, Rep.</a>,\n",
       " <a data-reactid=\"713\" href=\"/country/zambia?view=chart\">Zambia</a>,\n",
       " <a data-reactid=\"715\" href=\"/country/zimbabwe?view=chart\">Zimbabwe</a>,\n",
       " <a data-reactid=\"722\" href=\"/region/east-asia-and-pacific?view=chart\">East Asia &amp; Pacific</a>,\n",
       " <a data-reactid=\"724\" href=\"/region/europe-and-central-asia?view=chart\">Europe &amp; Central Asia</a>,\n",
       " <a data-reactid=\"726\" href=\"/region/latin-america-and-caribbean?view=chart\">Latin America &amp; Caribbean</a>,\n",
       " <a data-reactid=\"728\" href=\"/region/middle-east-and-north-africa?view=chart\">Middle East &amp; North Africa</a>,\n",
       " <a data-reactid=\"730\" href=\"/region/north-america?view=chart\">North America</a>,\n",
       " <a data-reactid=\"732\" href=\"/region/south-asia?view=chart\">South Asia</a>,\n",
       " <a data-reactid=\"734\" href=\"/region/sub-saharan-africa?view=chart\">Sub-Saharan Africa</a>,\n",
       " <a data-reactid=\"739\" href=\"/income-level/high-income?view=chart\">High income</a>,\n",
       " <a data-reactid=\"741\" href=\"/income-level/low-and-middle-income?view=chart\">Low &amp; middle income</a>,\n",
       " <a data-reactid=\"743\" href=\"/income-level/low-income?view=chart\">Low income</a>,\n",
       " <a data-reactid=\"745\" href=\"/income-level/lower-middle-income?view=chart\">Lower middle income</a>,\n",
       " <a data-reactid=\"747\" href=\"/income-level/middle-income?view=chart\">Middle income</a>,\n",
       " <a data-reactid=\"749\" href=\"/income-level/upper-middle-income?view=chart\">Upper middle income</a>,\n",
       " <a data-reactid=\"754\" href=\"/region/ibrd-only?view=chart\">IBRD only</a>,\n",
       " <a data-reactid=\"756\" href=\"/region/ida-blend?view=chart\">IDA blend</a>,\n",
       " <a data-reactid=\"758\" href=\"/region/ida-only?view=chart\">IDA only</a>,\n",
       " <a data-reactid=\"763\" href=\"/region/early-demographic-dividend?view=chart\">Early-demographic dividend</a>,\n",
       " <a data-reactid=\"765\" href=\"/region/late-demographic-dividend?view=chart\">Late-demographic dividend</a>,\n",
       " <a data-reactid=\"767\" href=\"/region/post-demographic-dividend?view=chart\">Post-demographic dividend</a>,\n",
       " <a data-reactid=\"769\" href=\"/region/pre-demographic-dividend?view=chart\">Pre-demographic dividend</a>,\n",
       " <a data-reactid=\"774\" href=\"/region/caribbean-small-states?view=chart\">Caribbean small states</a>,\n",
       " <a data-reactid=\"776\" href=\"/region/other-small-states?view=chart\">Other small states</a>,\n",
       " <a data-reactid=\"778\" href=\"/region/pacific-island-small-states?view=chart\">Pacific island small states</a>,\n",
       " <a data-reactid=\"780\" href=\"/region/small-states?view=chart\">Small states</a>,\n",
       " <a data-reactid=\"785\" href=\"/region/arab-world?view=chart\">Arab World</a>,\n",
       " <a data-reactid=\"787\" href=\"/region/central-europe-and-the-baltics?view=chart\">Central Europe and the Baltics</a>,\n",
       " <a data-reactid=\"789\" href=\"/region/east-asia-and-pacific-excluding-high-income?view=chart\">East Asia &amp; Pacific (excluding high income)</a>,\n",
       " <a data-reactid=\"791\" href=\"/region/euro-area?view=chart\">Euro area</a>,\n",
       " <a data-reactid=\"793\" href=\"/region/europe-and-central-asia-excluding-high-income?view=chart\">Europe &amp; Central Asia (excluding high income)</a>,\n",
       " <a data-reactid=\"795\" href=\"/region/european-union?view=chart\">European Union</a>,\n",
       " <a data-reactid=\"797\" href=\"/region/fragile-and-conflict-affected-situations?view=chart\">Fragile and conflict affected situations</a>,\n",
       " <a data-reactid=\"799\" href=\"/region/heavily-indebted-poor-countries-hipc?view=chart\">Heavily indebted poor countries (HIPC)</a>,\n",
       " <a data-reactid=\"801\" href=\"/region/latin-america-and-caribbean-excluding-high-income?view=chart\">Latin America &amp; Caribbean (excluding high income)</a>,\n",
       " <a data-reactid=\"803\" href=\"/region/least-developed-countries-un-classification?view=chart\">Least developed countries: UN classification</a>,\n",
       " <a data-reactid=\"805\" href=\"/region/middle-east-and-north-africa-excluding-high-income?view=chart\">Middle East &amp; North Africa (excluding high income)</a>,\n",
       " <a data-reactid=\"807\" href=\"/region/oecd-members?view=chart\">OECD members</a>,\n",
       " <a data-reactid=\"809\" href=\"/region/sub-saharan-africa-excluding-high-income?view=chart\">Sub-Saharan Africa (excluding high income)</a>,\n",
       " <a data-reactid=\"811\" href=\"/region/world?view=chart\">World</a>,\n",
       " <a class=\"help-improve\" data-reactid=\"815\" href=\"http://goo.gl/forms/Hw4zfOQufm\" target=\"_blank\"><span data-reactid=\"816\">Help us improve this site</span></a>,\n",
       " <a data-reactid=\"822\" href=\"http://www.worldbank.org/\" target=\"_blank\"><img alt=\"The World Bank Working for a World Free of Poverty\" data-reactid=\"823\" src=\"/assets/images/logo-wbg-footer-en.svg\"/></a>,\n",
       " <a data-reactid=\"825\" href=\"http://www.worldbank.org/en/about/what-we-do/brief/ibrd\" target=\"_blank\">IBRD</a>,\n",
       " <a data-reactid=\"827\" href=\"http://www.worldbank.org/ida\" target=\"_blank\">IDA</a>,\n",
       " <a data-reactid=\"829\" href=\"http://www.ifc.org\" target=\"_blank\">IFC</a>,\n",
       " <a data-reactid=\"831\" href=\"http://www.miga.org\" target=\"_blank\">MIGA</a>,\n",
       " <a data-reactid=\"833\" href=\"http://icsid.worldbank.org\" target=\"_blank\">ICSID</a>,\n",
       " <a data-reactid=\"837\" href=\"http://www.worldbank.org/en/about/legal\" target=\"_blank\">Legal</a>,\n",
       " <a data-reactid=\"839\" href=\"https://www.worldbank.org/en/about/legal/privacy-notice\" target=\"_blank\">Privacy Notice</a>,\n",
       " <a data-reactid=\"841\" href=\"http://www.worldbank.org/en/access-to-information\" target=\"_blank\">Access to Information</a>,\n",
       " <a data-reactid=\"843\" href=\"http://www.worldbank.org/jobs\" target=\"_blank\">Jobs</a>,\n",
       " <a data-reactid=\"845\" href=\"http://www.worldbank.org/contacts\" target=\"_blank\">Contact</a>,\n",
       " <a data-reactid=\"851\" href=\"http://www.worldbank.org/fraudandcorruption?clear\" target=\"_blank\"><div data-reactid=\"852\">REPORT FRAUD OR CORRUPTION</div></a>,\n",
       " <a data-reactid=\"857\" href=\"https://www.worldbank.org/en/about/legal/privacy-notice\" rel=\"noreferrer noopener\" target=\"_blank\">click here.</a>]"
      ]
     },
     "execution_count": 6,
     "metadata": {},
     "output_type": "execute_result"
    }
   ],
   "source": [
    "links = soup.find_all('a')\n",
    "links"
   ]
  },
  {
   "cell_type": "code",
   "execution_count": 7,
   "id": "15381b84-87c8-4321-9786-c924b8bfae93",
   "metadata": {},
   "outputs": [],
   "source": [
    "links = soup.find_all('a')\n",
    "countries = []\n",
    "for link in links:\n",
    "    href = link.get('href')\n",
    "    if href and href.startswith(\"/country/\"):\n",
    "        country_name = link.text.strip()\n",
    "        full_url =  'https://data.worldbank.org/' + href\n",
    "        countries.append((country_name,full_url))\n",
    "        "
   ]
  },
  {
   "cell_type": "code",
   "execution_count": 8,
   "id": "2c67d207-f3c6-4983-bc11-40ecf0c0d292",
   "metadata": {},
   "outputs": [
    {
     "name": "stdout",
     "output_type": "stream",
     "text": [
      "217\n"
     ]
    }
   ],
   "source": [
    "print(len(countries))"
   ]
  },
  {
   "cell_type": "code",
   "execution_count": 9,
   "id": "69570ea0-8770-41e9-9048-f2f1a3006892",
   "metadata": {},
   "outputs": [
    {
     "name": "stdout",
     "output_type": "stream",
     "text": [
      "[('Afghanistan', 'https://data.worldbank.org//country/afghanistan?view=chart'), ('Albania', 'https://data.worldbank.org//country/albania?view=chart'), ('Algeria', 'https://data.worldbank.org//country/algeria?view=chart'), ('American Samoa', 'https://data.worldbank.org//country/american-samoa?view=chart'), ('Andorra', 'https://data.worldbank.org//country/andorra?view=chart')]\n"
     ]
    }
   ],
   "source": [
    "#print out the first countries\n",
    "print(countries[:5])"
   ]
  },
  {
   "cell_type": "code",
   "execution_count": 10,
   "id": "59cc2aa1-2f58-4085-8acd-339f457232de",
   "metadata": {},
   "outputs": [],
   "source": [
    "import csv"
   ]
  },
  {
   "cell_type": "code",
   "execution_count": 11,
   "id": "8bae1279-76ac-4e85-aac9-0417db032147",
   "metadata": {},
   "outputs": [
    {
     "name": "stdout",
     "output_type": "stream",
     "text": [
      "csv saved\n"
     ]
    }
   ],
   "source": [
    "with open('worldbank_countries.csv', 'w', newline='', encoding='utf-8') as file:\n",
    "    writer = csv.writer(file)\n",
    "    writer.writerow(['Country', 'URL'])\n",
    "    writer.writerows(countries)\n",
    "print('csv saved')\n"
   ]
  },
  {
   "cell_type": "code",
   "execution_count": 12,
   "id": "5738f67c-205a-4163-b384-ace999794ef3",
   "metadata": {},
   "outputs": [],
   "source": [
    "import pandas as pd\n"
   ]
  },
  {
   "cell_type": "code",
   "execution_count": 13,
   "id": "9f161cef-fea8-4fef-ae88-d62f18a73163",
   "metadata": {},
   "outputs": [
    {
     "data": {
      "text/html": [
       "<div>\n",
       "<style scoped>\n",
       "    .dataframe tbody tr th:only-of-type {\n",
       "        vertical-align: middle;\n",
       "    }\n",
       "\n",
       "    .dataframe tbody tr th {\n",
       "        vertical-align: top;\n",
       "    }\n",
       "\n",
       "    .dataframe thead th {\n",
       "        text-align: right;\n",
       "    }\n",
       "</style>\n",
       "<table border=\"1\" class=\"dataframe\">\n",
       "  <thead>\n",
       "    <tr style=\"text-align: right;\">\n",
       "      <th></th>\n",
       "      <th>Country</th>\n",
       "      <th>URL</th>\n",
       "    </tr>\n",
       "  </thead>\n",
       "  <tbody>\n",
       "    <tr>\n",
       "      <th>0</th>\n",
       "      <td>Afghanistan</td>\n",
       "      <td>https://data.worldbank.org//country/afghanista...</td>\n",
       "    </tr>\n",
       "    <tr>\n",
       "      <th>1</th>\n",
       "      <td>Albania</td>\n",
       "      <td>https://data.worldbank.org//country/albania?vi...</td>\n",
       "    </tr>\n",
       "    <tr>\n",
       "      <th>2</th>\n",
       "      <td>Algeria</td>\n",
       "      <td>https://data.worldbank.org//country/algeria?vi...</td>\n",
       "    </tr>\n",
       "    <tr>\n",
       "      <th>3</th>\n",
       "      <td>American Samoa</td>\n",
       "      <td>https://data.worldbank.org//country/american-s...</td>\n",
       "    </tr>\n",
       "    <tr>\n",
       "      <th>4</th>\n",
       "      <td>Andorra</td>\n",
       "      <td>https://data.worldbank.org//country/andorra?vi...</td>\n",
       "    </tr>\n",
       "  </tbody>\n",
       "</table>\n",
       "</div>"
      ],
      "text/plain": [
       "          Country                                                URL\n",
       "0     Afghanistan  https://data.worldbank.org//country/afghanista...\n",
       "1         Albania  https://data.worldbank.org//country/albania?vi...\n",
       "2         Algeria  https://data.worldbank.org//country/algeria?vi...\n",
       "3  American Samoa  https://data.worldbank.org//country/american-s...\n",
       "4         Andorra  https://data.worldbank.org//country/andorra?vi..."
      ]
     },
     "execution_count": 13,
     "metadata": {},
     "output_type": "execute_result"
    }
   ],
   "source": [
    "data = pd.read_csv(\"worldbank_countries.csv\")\n",
    "data.head()\n",
    "            "
   ]
  },
  {
   "cell_type": "code",
   "execution_count": null,
   "id": "177c1b8e-b4c6-445e-9c9d-679dda8dc560",
   "metadata": {},
   "outputs": [],
   "source": []
  },
  {
   "cell_type": "code",
   "execution_count": 26,
   "id": "562f3981-fb80-4d0a-91ad-ccf743e43996",
   "metadata": {},
   "outputs": [
    {
     "name": "stdout",
     "output_type": "stream",
     "text": [
      "Nigeria | Data\n"
     ]
    }
   ],
   "source": [
    "url = \"https://data.worldbank.org/country/nigeria?view=chart\"\n",
    "response = requests.get(url)\n",
    "soup = BeautifulSoup(response.content, 'html.parser')\n",
    "\n",
    "print(soup.title.text)"
   ]
  },
  {
   "cell_type": "code",
   "execution_count": 20,
   "id": "f211015f-de88-4dc0-9002-b20e3b363f83",
   "metadata": {},
   "outputs": [],
   "source": [
    "metadata = soup.find_all(\"div\", class_ = \"metadata-item\")\n",
    "for item in metadata:\n",
    "    print(item.text.strip())"
   ]
  },
  {
   "cell_type": "code",
   "execution_count": 25,
   "id": "80fa11fb-9caf-47c3-9d39-a88409bc4acb",
   "metadata": {},
   "outputs": [],
   "source": [
    "# with open(\"raw_output.html\", \"w\", encoding = \"utf-8\") as f:\n",
    "#     f.write(soup.prettify())"
   ]
  },
  {
   "cell_type": "code",
   "execution_count": 32,
   "id": "db5dcf6b-c703-44d1-ba40-52f560541165",
   "metadata": {},
   "outputs": [
    {
     "data": {
      "text/plain": [
       "<ul class=\"meta\" data-reactid=\"1003\"></ul>"
      ]
     },
     "execution_count": 32,
     "metadata": {},
     "output_type": "execute_result"
    }
   ],
   "source": []
  },
  {
   "cell_type": "code",
   "execution_count": null,
   "id": "d4925237-6071-4717-a374-b55e0c721f15",
   "metadata": {},
   "outputs": [],
   "source": []
  },
  {
   "cell_type": "code",
   "execution_count": 42,
   "id": "a74c1648-aca7-4699-bce0-6901977ede3d",
   "metadata": {},
   "outputs": [
    {
     "name": "stdout",
     "output_type": "stream",
     "text": [
      "[{'page': 1, 'pages': 1, 'per_page': '50', 'total': 1}, [{'id': 'NGA', 'iso2Code': 'NG', 'name': 'Nigeria', 'region': {'id': 'SSF', 'iso2code': 'ZG', 'value': 'Sub-Saharan Africa '}, 'adminregion': {'id': 'SSA', 'iso2code': 'ZF', 'value': 'Sub-Saharan Africa (excluding high income)'}, 'incomeLevel': {'id': 'LMC', 'iso2code': 'XN', 'value': 'Lower middle income'}, 'lendingType': {'id': 'IDB', 'iso2code': 'XH', 'value': 'Blend'}, 'capitalCity': 'Abuja', 'longitude': '7.48906', 'latitude': '9.05804'}]]\n"
     ]
    }
   ],
   "source": [
    "url = \"https://api.worldbank.org/v2/country/NGA?format=json\"\n",
    "response = requests.get(url)\n",
    "data = response.json()\n",
    "print(data)"
   ]
  },
  {
   "cell_type": "code",
   "execution_count": 44,
   "id": "4a8d3554-bd35-451e-8234-4f0884108d1d",
   "metadata": {},
   "outputs": [],
   "source": [
    "def get_country_metadata(country_code):\n",
    "    url = f\"https://api.worldbank.org/v2/country/{country_code}?format=json\"\n",
    "    response = requests.get(url)\n",
    "    data = response.json()\n",
    "    return data[1][0]\n"
   ]
  },
  {
   "cell_type": "code",
   "execution_count": 50,
   "id": "2d85580d-f32d-43b7-80a3-74ea13708e33",
   "metadata": {},
   "outputs": [
    {
     "data": {
      "text/plain": [
       "{'id': 'NGA',\n",
       " 'iso2Code': 'NG',\n",
       " 'name': 'Nigeria',\n",
       " 'region': {'id': 'SSF', 'iso2code': 'ZG', 'value': 'Sub-Saharan Africa '},\n",
       " 'adminregion': {'id': 'SSA',\n",
       "  'iso2code': 'ZF',\n",
       "  'value': 'Sub-Saharan Africa (excluding high income)'},\n",
       " 'incomeLevel': {'id': 'LMC',\n",
       "  'iso2code': 'XN',\n",
       "  'value': 'Lower middle income'},\n",
       " 'lendingType': {'id': 'IDB', 'iso2code': 'XH', 'value': 'Blend'},\n",
       " 'capitalCity': 'Abuja',\n",
       " 'longitude': '7.48906',\n",
       " 'latitude': '9.05804'}"
      ]
     },
     "execution_count": 50,
     "metadata": {},
     "output_type": "execute_result"
    }
   ],
   "source": [
    "info = get_country_metadata(\"NGA\")\n",
    "info"
   ]
  },
  {
   "cell_type": "code",
   "execution_count": null,
   "id": "8a926e69-08d1-434e-90b4-ed6853851079",
   "metadata": {},
   "outputs": [],
   "source": [
    "print(\"Country:\", info['name'])\n",
    "print(\"Capital:\", info[\"name\"])\n",
    "print(\"Region:\", info[\"name\"])\n",
    "print(\"Income level:\", info[\"name\"])\n",
    "print(\"Lending Type:\", info[\"name\"])"
   ]
  },
  {
   "cell_type": "code",
   "execution_count": null,
   "id": "f216c534-2d8b-474c-acd9-aecad8f0d5aa",
   "metadata": {},
   "outputs": [],
   "source": []
  },
  {
   "cell_type": "code",
   "execution_count": null,
   "id": "129ed4a2-f671-4151-a0e4-2b288f75954f",
   "metadata": {},
   "outputs": [],
   "source": []
  }
 ],
 "metadata": {
  "kernelspec": {
   "display_name": "Python 3 (ipykernel)",
   "language": "python",
   "name": "python3"
  },
  "language_info": {
   "codemirror_mode": {
    "name": "ipython",
    "version": 3
   },
   "file_extension": ".py",
   "mimetype": "text/x-python",
   "name": "python",
   "nbconvert_exporter": "python",
   "pygments_lexer": "ipython3",
   "version": "3.12.9"
  }
 },
 "nbformat": 4,
 "nbformat_minor": 5
}
